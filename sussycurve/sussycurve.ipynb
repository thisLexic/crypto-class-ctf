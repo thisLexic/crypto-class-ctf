{
 "cells": [
  {
   "cell_type": "code",
   "execution_count": 1,
   "id": "narrow-recording",
   "metadata": {},
   "outputs": [],
   "source": [
    "#!/usr/bin/env python3\n",
    "\n",
    "from cryptography.hazmat.primitives.ciphers import Cipher, algorithms, modes\n",
    "from secrets import token_bytes\n",
    "from binascii import hexlify, unhexlify\n",
    "\n",
    "p = 3548190181\n",
    "A = 0\n",
    "B = 0\n",
    "\n",
    "def invmod(x):\n",
    "    # secret trick by Fermat\n",
    "    return pow(x, p-2, p)\n",
    "\n",
    "def add(P, Q):\n",
    "    (x1, y1), (x2, y2) = P, Q\n",
    "    if x1 == x2:\n",
    "        slope = (3*x1**2 + A) * invmod(2*y1)\n",
    "    else:\n",
    "        slope = (y2-y1) * invmod(x2-x1)\n",
    "    x3 = (slope**2 - x1 - x2) % p\n",
    "    y3 = (slope*(x1-x3) - y1) % p\n",
    "    return (x3, y3)\n",
    "\n",
    "def mul(P, k):\n",
    "    if k == 1:\n",
    "        return P\n",
    "    elif k & 1:\n",
    "        return add(P, mul(P, k-1))\n",
    "    else:\n",
    "        return mul(add(P, P), k//2)\n",
    "\n",
    "# encrypting stuff\n",
    "\n",
    "def pkcs7_pad(p, blklen=16):\n",
    "    n = blklen - (len(p) % blklen)\n",
    "    return p + bytes([n]*n)\n",
    "\n",
    "def pkcs7_unpad(p, blklen=16):\n",
    "    if not len(p) % blklen == 0:\n",
    "        raise Exception\n",
    "    last_byte = p[-1]\n",
    "    pad = bytes([last_byte]*last_byte)\n",
    "    if last_byte > blklen or last_byte < 1:\n",
    "        raise Exception\n",
    "    if not p.endswith(pad):\n",
    "        raise Exception\n",
    "    return p[:-last_byte]\n",
    "\n",
    "def encrypt(p, k):\n",
    "    iv = token_bytes(16)\n",
    "    cipher = Cipher(algorithms.AES(k), modes.CBC(iv))\n",
    "    aes_enc = cipher.encryptor()\n",
    "    c = aes_enc.update(pkcs7_pad(p)) + aes_enc.finalize()\n",
    "    return iv + c\n",
    "\n",
    "def decrypt(c, k):\n",
    "    iv = c[:16]\n",
    "    cipher = Cipher(algorithms.AES(k), modes.CBC(iv))\n",
    "    aes_dec = cipher.decryptor()\n",
    "    p = aes_dec.update(c[16:]) + aes_dec.finalize()\n",
    "    return pkcs7_unpad(p)\n"
   ]
  },
  {
   "cell_type": "code",
   "execution_count": 2,
   "id": "signal-decision",
   "metadata": {},
   "outputs": [],
   "source": [
    "p = 3548190181\n",
    "\n",
    "P = (18435, 454929829)\n",
    "Q = (1254695067, 2137017680)  "
   ]
  },
  {
   "cell_type": "code",
   "execution_count": 3,
   "id": "intimate-evanescence",
   "metadata": {},
   "outputs": [
    {
     "name": "stdout",
     "output_type": "stream",
     "text": [
      "P\n",
      "LHS 2564793410\n",
      "RHS 2564793410\n"
     ]
    }
   ],
   "source": [
    "print(\"P\")\n",
    "print(\"LHS \" + str((P[1]**2)%p))\n",
    "print(\"RHS \" + str((P[0]**3)%p))"
   ]
  },
  {
   "cell_type": "code",
   "execution_count": 4,
   "id": "current-midwest",
   "metadata": {},
   "outputs": [
    {
     "name": "stdout",
     "output_type": "stream",
     "text": [
      "Q\n",
      "LHS 946044702\n",
      "RHS 946044702\n"
     ]
    }
   ],
   "source": [
    "print(\"Q\")\n",
    "print(\"LHS \" + str((Q[1]**2)%p))\n",
    "print(\"RHS \" + str((Q[0]**3)%p))"
   ]
  },
  {
   "cell_type": "code",
   "execution_count": 5,
   "id": "fixed-vatican",
   "metadata": {},
   "outputs": [
    {
     "name": "stdout",
     "output_type": "stream",
     "text": [
      "d: 42069\n"
     ]
    }
   ],
   "source": [
    "# Q == d*P\n",
    "# d = 1\n",
    "d = 42069\n",
    "while True:\n",
    "    if Q == mul(P, d):\n",
    "        print(\"d: \" + str(d))\n",
    "        break\n",
    "    d += 1"
   ]
  },
  {
   "cell_type": "code",
   "execution_count": 6,
   "id": "popular-bottle",
   "metadata": {},
   "outputs": [],
   "source": [
    "# key = SHA256(str(d))\n",
    "import hashlib\n",
    "# key = b'3f64a7f4dd53bb20cfbc148d34d8bf866c5f8728da9dce2066be0e3e408c612e'\n",
    "key = hashlib.sha256(str(d).encode('utf-8')).digest()"
   ]
  },
  {
   "cell_type": "code",
   "execution_count": 7,
   "id": "pointed-penny",
   "metadata": {},
   "outputs": [],
   "source": [
    "from base64 import b64encode\n",
    "with open(\"./flag.pdf.enc\", \"rb\") as file:\n",
    "    s = file.read()\n",
    "    decrypted_string = decrypt(s, key)\n",
    "    decfile = open(f'./flag.pdf', 'wb')\n",
    "    decfile.write(decrypted_string)\n",
    "    decfile.close()"
   ]
  },
  {
   "cell_type": "code",
   "execution_count": null,
   "id": "derived-claim",
   "metadata": {},
   "outputs": [],
   "source": []
  },
  {
   "cell_type": "code",
   "execution_count": null,
   "id": "modular-durham",
   "metadata": {},
   "outputs": [],
   "source": []
  }
 ],
 "metadata": {
  "kernelspec": {
   "display_name": "SageMath 9.0",
   "language": "sage",
   "name": "sagemath"
  },
  "language_info": {
   "codemirror_mode": {
    "name": "ipython",
    "version": 3
   },
   "file_extension": ".py",
   "mimetype": "text/x-python",
   "name": "python",
   "nbconvert_exporter": "python",
   "pygments_lexer": "ipython3",
   "version": "3.8.5"
  }
 },
 "nbformat": 4,
 "nbformat_minor": 5
}
