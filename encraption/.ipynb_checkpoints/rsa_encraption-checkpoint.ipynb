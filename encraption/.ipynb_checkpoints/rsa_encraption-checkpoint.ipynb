{
 "cells": [
  {
   "cell_type": "code",
   "execution_count": 6,
   "id": "developing-alert",
   "metadata": {},
   "outputs": [
    {
     "data": {
      "text/plain": [
       "6902622408612741732998950943695305098404317152957476444423872081566640184404250045592570905247583680663475503071921161758493504014605400022476439537366451"
      ]
     },
     "execution_count": 6,
     "metadata": {},
     "output_type": "execute_result"
    }
   ],
   "source": [
    "# int(N)\n",
    "N_must = 0x83cb50c5dfdf46956f3264f1d86aaa349b3e5467dd21c3378bb9b8188441f8a2030c52a0d34535b32ea7a24e9feb8b73d1e5dd7b9de49954c2973fb95cd0b5b3\n",
    "N_must"
   ]
  },
  {
   "cell_type": "code",
   "execution_count": 2,
   "id": "verbal-korean",
   "metadata": {},
   "outputs": [
    {
     "data": {
      "text/plain": [
       "True"
      ]
     },
     "execution_count": 2,
     "metadata": {},
     "output_type": "execute_result"
    }
   ],
   "source": [
    "p = 77882408867466414737830823616442124246477860244154061584419909218327446081643\n",
    "q = 88628773929669161867967842327890631701867422108782526344419773382770618589657\n",
    "p*q == N_must"
   ]
  },
  {
   "cell_type": "code",
   "execution_count": 3,
   "id": "associate-incentive",
   "metadata": {},
   "outputs": [],
   "source": [
    "# rsa_decrapt(c, N, e, p, q):\n",
    "\n",
    "N = 0x83cb50c5dfdf46956f3264f1d86aaa349b3e5467dd21c3378bb9b8188441f8a2030c52a0d34535b32ea7a24e9feb8b73d1e5dd7b9de49954c2973fb95cd0b5b3\n",
    "e = 0x11\n",
    "c = 0x7e541ac2d36e77516b6fca21c585e5eeac81c4755aefee32924c2edf58ea6be64710a054d6ec03eb5812f42ebd96fa951f726364629bf36d58cbb5c4bbc4ca10\n",
    "p = 77882408867466414737830823616442124246477860244154061584419909218327446081643\n",
    "q = 88628773929669161867967842327890631701867422108782526344419773382770618589657"
   ]
  },
  {
   "cell_type": "code",
   "execution_count": 4,
   "id": "lesser-relaxation",
   "metadata": {},
   "outputs": [],
   "source": [
    "def getge(p, q, e):\n",
    "    symbol1 = ((p-1)*(q-1))/e\n",
    "    g = 1\n",
    "    while True:\n",
    "        g += 1\n",
    "        ge = mod(g,N)^symbol1\n",
    "        if ge != 1:\n",
    "            return ge\n",
    "\n",
    "def rsa_decrapt(c, N, e, p, q):\n",
    "    symbol1 = ((p-1)*(q-1))/e\n",
    "    d = (e**-1)%symbol1\n",
    "    a = mod(c,N)^d\n",
    "    ge = getge(p, q, e)\n",
    "    \n",
    "    P = []\n",
    "    l = 1%N\n",
    "    for i in range(e):\n",
    "        x = (a*l)%N\n",
    "        P.append(x)\n",
    "        l = (l*ge)%N\n",
    "    return P"
   ]
  },
  {
   "cell_type": "code",
   "execution_count": 5,
   "id": "distant-appreciation",
   "metadata": {},
   "outputs": [
    {
     "name": "stdout",
     "output_type": "stream",
     "text": [
      "b'`\\xc45\\x9b\\x87\\x13]9\\x8bt\\xa9\\xc5\\xfa7\\xc8L\\xb8\\xf2\"V\\xaa\\x7f1e\\xb0d\\xe7\\x8a\\x80\\xdb\\xd7\\xd2\\x15y\\xd2\\xef\\x08o\\xf7\\xee\\xc2\\x98H$e\\x00\\x1b\\xa0U\\xfc\\x8e={ea\\x07\\xa65bC)\\xb1i\\x91'\n",
      "b':\\x8d\\xa6`\\xefm)\\x8a`\\xe4\\xd4N\\xaf\\xe2\\xbcaP{9\\x81\\xca\\xf3T}\\x95\\x17>\\x03+\\x1a\\xd7\\x81\\xff\\xea\\\\\\r\\x83\\xbb\\xbfW\\x1c\\xf7\\xd065\\xdaX\\xe8\"\\x81\\xc8\\xb8\\xa7\\x0c\\x92\\x8e3\\xbd\\x1b\\x88\\x9d[m\\xb4'\n",
      "b'CSCI_184.03_CTF{n0_m3s5age_15_und3cr4p7abl3}'\n"
     ]
    },
    {
     "ename": "Error",
     "evalue": "Odd-length string",
     "output_type": "error",
     "traceback": [
      "\u001b[0;31m---------------------------------------------------------------------------\u001b[0m",
      "\u001b[0;31mError\u001b[0m                                     Traceback (most recent call last)",
      "\u001b[0;32m<ipython-input-5-a65873c8e074>\u001b[0m in \u001b[0;36m<module>\u001b[0;34m\u001b[0m\n\u001b[1;32m      5\u001b[0m \u001b[0;34m\u001b[0m\u001b[0m\n\u001b[1;32m      6\u001b[0m \u001b[0;32mfor\u001b[0m \u001b[0mx\u001b[0m \u001b[0;32min\u001b[0m \u001b[0mrsa_decrapt\u001b[0m\u001b[0;34m(\u001b[0m\u001b[0mc\u001b[0m\u001b[0;34m,\u001b[0m \u001b[0mN\u001b[0m\u001b[0;34m,\u001b[0m \u001b[0me\u001b[0m\u001b[0;34m,\u001b[0m \u001b[0mp\u001b[0m\u001b[0;34m,\u001b[0m \u001b[0mq\u001b[0m\u001b[0;34m)\u001b[0m\u001b[0;34m:\u001b[0m\u001b[0;34m\u001b[0m\u001b[0;34m\u001b[0m\u001b[0m\n\u001b[0;32m----> 7\u001b[0;31m     \u001b[0mprint\u001b[0m\u001b[0;34m(\u001b[0m\u001b[0mint_to_ascii\u001b[0m\u001b[0;34m(\u001b[0m\u001b[0mx\u001b[0m\u001b[0;34m)\u001b[0m\u001b[0;34m)\u001b[0m\u001b[0;34m\u001b[0m\u001b[0;34m\u001b[0m\u001b[0m\n\u001b[0m",
      "\u001b[0;32m<ipython-input-5-a65873c8e074>\u001b[0m in \u001b[0;36mint_to_ascii\u001b[0;34m(i)\u001b[0m\n\u001b[1;32m      2\u001b[0m \u001b[0;34m\u001b[0m\u001b[0m\n\u001b[1;32m      3\u001b[0m \u001b[0;32mdef\u001b[0m \u001b[0mint_to_ascii\u001b[0m\u001b[0;34m(\u001b[0m\u001b[0mi\u001b[0m\u001b[0;34m)\u001b[0m\u001b[0;34m:\u001b[0m\u001b[0;34m\u001b[0m\u001b[0;34m\u001b[0m\u001b[0m\n\u001b[0;32m----> 4\u001b[0;31m     \u001b[0;32mreturn\u001b[0m \u001b[0munhexlify\u001b[0m\u001b[0;34m(\u001b[0m\u001b[0mhex\u001b[0m\u001b[0;34m(\u001b[0m\u001b[0mi\u001b[0m\u001b[0;34m)\u001b[0m\u001b[0;34m[\u001b[0m\u001b[0mInteger\u001b[0m\u001b[0;34m(\u001b[0m\u001b[0;36m2\u001b[0m\u001b[0;34m)\u001b[0m\u001b[0;34m:\u001b[0m\u001b[0;34m]\u001b[0m\u001b[0;34m)\u001b[0m\u001b[0;34m\u001b[0m\u001b[0;34m\u001b[0m\u001b[0m\n\u001b[0m\u001b[1;32m      5\u001b[0m \u001b[0;34m\u001b[0m\u001b[0m\n\u001b[1;32m      6\u001b[0m \u001b[0;32mfor\u001b[0m \u001b[0mx\u001b[0m \u001b[0;32min\u001b[0m \u001b[0mrsa_decrapt\u001b[0m\u001b[0;34m(\u001b[0m\u001b[0mc\u001b[0m\u001b[0;34m,\u001b[0m \u001b[0mN\u001b[0m\u001b[0;34m,\u001b[0m \u001b[0me\u001b[0m\u001b[0;34m,\u001b[0m \u001b[0mp\u001b[0m\u001b[0;34m,\u001b[0m \u001b[0mq\u001b[0m\u001b[0;34m)\u001b[0m\u001b[0;34m:\u001b[0m\u001b[0;34m\u001b[0m\u001b[0;34m\u001b[0m\u001b[0m\n",
      "\u001b[0;31mError\u001b[0m: Odd-length string"
     ]
    }
   ],
   "source": [
    "from binascii import hexlify, unhexlify\n",
    "\n",
    "def int_to_ascii(i):\n",
    "    return unhexlify(hex(i)[2:])\n",
    "\n",
    "for x in rsa_decrapt(c, N, e, p, q):\n",
    "    print(int_to_ascii(x))"
   ]
  },
  {
   "cell_type": "code",
   "execution_count": null,
   "id": "signal-decision",
   "metadata": {},
   "outputs": [],
   "source": [
    "#!/usr/local/bin/sage\n",
    "\n",
    "from binascii import hexlify, unhexlify\n",
    "\n",
    "def rsa_genmodulus(n, e=0x10001):\n",
    "    while True:\n",
    "        p = random_prime(2^n-1, lbound=2^(n-1), proof=False)\n",
    "        q = random_prime(2^n-1, lbound=2^(n-1), proof=False)\n",
    "        N = p*q\n",
    "        \n",
    "        N_phi = (p-1)*(q-1)\n",
    "        if gcd(N_phi, e) != 1:\n",
    "            return N, N_phi, e, p, q\n",
    "\n",
    "#         N_phi = (p-1)*(q-1)\n",
    "#         if gcd(N_phi, e) != 1:\n",
    "#             return N, N_phi, e, p, q\n",
    "\n",
    "def rsa_encrapt(m, N, e):\n",
    "    return Mod(m, N)^e\n",
    "\n",
    "def rsa_decrapt(c, N, e, p, q):\n",
    "    # to-do: implement Algs 1 and 2 from https://eprint.iacr.org/2020/1059.pdf\n",
    "    raise NotImplementedError\n",
    "\n",
    "def ascii_to_int(s):\n",
    "    return int.from_bytes(s, byteorder='big')\n",
    "\n",
    "def int_to_ascii(i):\n",
    "    return unhexlify(hex(i)[2:])\n",
    "\n",
    "\n",
    "if __name__ == '__main__':\n",
    "    print('Generating keys...')\n",
    "    N, N_phi, e, p, q = rsa_genmodulus(256, 17)\n",
    "    print(f'N = {hex(N)}')\n",
    "    print(f'e = {hex(e)}')\n",
    "    print(f'phi(N) = {N_phi}')\n",
    "    print(f'p = {p}')\n",
    "    print(f'q = {q}')\n",
    "    \n",
    "    ptxt = input('\\nEnter a string to encrapt: ').encode('utf-8')\n",
    "    m = ascii_to_int(ptxt)\n",
    "    assert m < N\n",
    "    c = rsa_encrapt(m, N, e)\n",
    "    \n",
    "    print('\\nThe encraption in hex is:')\n",
    "    print(f'c = {hex(c)}')\n",
    "    print(f'c = {c}')"
   ]
  },
  {
   "cell_type": "code",
   "execution_count": null,
   "id": "intimate-evanescence",
   "metadata": {},
   "outputs": [],
   "source": []
  },
  {
   "cell_type": "code",
   "execution_count": null,
   "id": "eastern-hybrid",
   "metadata": {},
   "outputs": [],
   "source": []
  }
 ],
 "metadata": {
  "kernelspec": {
   "display_name": "SageMath 9.0",
   "language": "sage",
   "name": "sagemath"
  },
  "language_info": {
   "codemirror_mode": {
    "name": "ipython",
    "version": 3
   },
   "file_extension": ".py",
   "mimetype": "text/x-python",
   "name": "python",
   "nbconvert_exporter": "python",
   "pygments_lexer": "ipython3",
   "version": "3.8.5"
  }
 },
 "nbformat": 4,
 "nbformat_minor": 5
}
