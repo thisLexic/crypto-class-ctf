{
 "cells": [
  {
   "cell_type": "code",
   "execution_count": 1,
   "id": "narrow-recording",
   "metadata": {},
   "outputs": [
    {
     "name": "stdout",
     "output_type": "stream",
     "text": [
      "Generating keys...\n",
      "N = 0xd1d5a1c5f7dea02f6c5b490587635a1eed263f857451a5d1158581249fbf26fe6c60c39ff153401e5049dadd2db57d852db111102c359d4921ed3f4507b8bc71\n",
      "e = 0x11\n",
      "phi(N) = 10989924489267634192567162451944071836844315184467351954934310076005161887012594578923070928514850981775527815340298160830587833964882048031001302311721460\n",
      "p = 113605989057729992500395251998531691993014194375355166190826660266569095727843\n",
      "q = 96737192998539863653246027754981624875065773521079970527156197070077112031131\n",
      "\n",
      "Enter a string to encrapt: 1\n",
      "\n",
      "The encraption in hex is:\n",
      "c = 0xaedc7f313b85d3ed29cc4b31\n"
     ]
    }
   ],
   "source": [
    "#!/usr/local/bin/sage\n",
    "\n",
    "from binascii import hexlify, unhexlify\n",
    "\n",
    "def rsa_genmodulus(n, e=0x10001):\n",
    "    while True:\n",
    "        p = random_prime(2^n-1, lbound=2^(n-1), proof=False)\n",
    "        q = random_prime(2^n-1, lbound=2^(n-1), proof=False)\n",
    "        N = p*q\n",
    "        N_phi = (p-1)*(q-1)\n",
    "        if gcd(N_phi, e) != 1:\n",
    "            return N, N_phi, e, p, q\n",
    "            \n",
    "def rsa_encrapt(m, N, e):\n",
    "    return Mod(m, N)^e\n",
    "\n",
    "def rsa_decrapt(c, N, e, p, q):\n",
    "    # to-do: implement Algs 1 and 2 from https://eprint.iacr.org/2020/1059.pdf\n",
    "    raise NotImplementedError\n",
    "\n",
    "def ascii_to_int(s):\n",
    "    return int.from_bytes(s, byteorder='big')\n",
    "\n",
    "def int_to_ascii(i):\n",
    "    return unhexlify(hex(i)[2:])\n",
    "\n",
    "\n",
    "if __name__ == '__main__':\n",
    "    print('Generating keys...')\n",
    "    N, N_phi, e, p, q = rsa_genmodulus(256, 17)\n",
    "    print(f'N = {hex(N)}')\n",
    "    print(f'e = {hex(e)}')\n",
    "    print(f'phi(N) = {N_phi}')\n",
    "    print(f'p = {p}')\n",
    "    print(f'q = {q}')\n",
    "    \n",
    "    ptxt = input('\\nEnter a string to encrapt: ').encode('utf-8')\n",
    "    m = ascii_to_int(ptxt)\n",
    "    assert m < N\n",
    "    c = rsa_encrapt(m, N, e)\n",
    "    \n",
    "    print('\\nThe encraption in hex is:')\n",
    "    print(f'c = {hex(c)}')"
   ]
  },
  {
   "cell_type": "code",
   "execution_count": null,
   "id": "signal-decision",
   "metadata": {},
   "outputs": [
    {
     "name": "stdout",
     "output_type": "stream",
     "text": [
      "Generating keys...\n",
      "N = 0x5de82c894878f3bde2d54d2cbe5f750201b5e9221ce224ae5ced07cbaefe882f3ab88075c57f68c4d6c9a100e91218b2d515ebc5e6286085c80f454c2656da93\n",
      "e = 0x11\n",
      "phi(N) = 4918304980302928537614780585626006975279071379583723207172306955496162278505460569941371436580458469784183561089054053752682446098303708125456914723804600\n",
      "p = 79246225799875319372787718829748220463679116186130860923368106921349197521461\n",
      "q = 62063586381052189674019955210299477436585992588582516341114834793994814841511\n"
     ]
    }
   ],
   "source": [
    "print('Generating keys...')\n",
    "N, N_phi, e, p, q = rsa_genmodulus(256, 17)\n",
    "print(f'N = {hex(N)}')\n",
    "print(f'e = {hex(e)}')\n",
    "print(f'phi(N) = {N_phi}')\n",
    "print(f'p = {p}')\n",
    "print(f'q = {q}')\n",
    "\n",
    "ptxt = input('\\nEnter a string to encrapt: ').encode('utf-8')\n",
    "m = ascii_to_int(ptxt)\n",
    "assert m < N\n",
    "c = rsa_encrapt(m, N, e)\n",
    "\n",
    "print('\\nThe encraption in hex is:')\n",
    "print(f'c = {hex(c)}')"
   ]
  },
  {
   "cell_type": "code",
   "execution_count": null,
   "id": "intimate-evanescence",
   "metadata": {},
   "outputs": [],
   "source": []
  }
 ],
 "metadata": {
  "kernelspec": {
   "display_name": "SageMath 9.0",
   "language": "sage",
   "name": "sagemath"
  },
  "language_info": {
   "codemirror_mode": {
    "name": "ipython",
    "version": 3
   },
   "file_extension": ".py",
   "mimetype": "text/x-python",
   "name": "python",
   "nbconvert_exporter": "python",
   "pygments_lexer": "ipython3",
   "version": "3.8.5"
  }
 },
 "nbformat": 4,
 "nbformat_minor": 5
}
